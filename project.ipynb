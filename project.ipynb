{
 "cells": [
  {
   "cell_type": "markdown",
   "metadata": {},
   "source": [
    "# Real-Time Hand Tracking with OpenCV and Computer Vision Project\n",
    "\n",
    "#### Libraries used:\n",
    "- `OpenCV`: A powerful library for image processing and computer vision. It provides tools for various tasks such as object detection, video analysis and image transformation;\n",
    "- `MediaPipe`: A framework for building multimodal machine learning pipelines. It is useful for tasks involving human pose estimation, facial recognition and hand tracking;\n",
    "- `CVzone`: A library that simplifies the integration of OpenCV and MediaPipe, making it easier to implement complex computer vision projects. It provides a higher-level interface for common tasks, reducing the amount of boilerplate code required."
   ]
  },
  {
   "cell_type": "markdown",
   "metadata": {},
   "source": [
    "# Importing Libraries"
   ]
  },
  {
   "cell_type": "code",
   "execution_count": 1,
   "metadata": {},
   "outputs": [],
   "source": [
    "import cv2\n",
    "from cvzone.HandTrackingModule import HandDetector"
   ]
  },
  {
   "cell_type": "markdown",
   "metadata": {},
   "source": [
    "# Initializing the Webcam"
   ]
  },
  {
   "cell_type": "code",
   "execution_count": 2,
   "metadata": {},
   "outputs": [],
   "source": [
    "webcam = cv2.VideoCapture(0)"
   ]
  },
  {
   "cell_type": "markdown",
   "metadata": {},
   "source": [
    "# Initializing the Hand Tracker"
   ]
  },
  {
   "cell_type": "code",
   "execution_count": 3,
   "metadata": {},
   "outputs": [],
   "source": [
    "hand_detector = HandDetector(detectionCon=0.8, maxHands=2)"
   ]
  },
  {
   "cell_type": "markdown",
   "metadata": {},
   "source": [
    "# Capturing and Processing Frames"
   ]
  },
  {
   "cell_type": "code",
   "execution_count": null,
   "metadata": {},
   "outputs": [],
   "source": [
    "while True:\n",
    "    #Capture the image from the webcam\n",
    "    success, img = webcam.read()\n",
    "\n",
    "    #Detect hands in the frame\n",
    "    hands, img_hands = hand_detector.findHands(img)\n",
    "\n",
    "    #Display the frame with annotations\n",
    "    cv2.imshow(\"Hand Tracking - AI\", img_hands)\n",
    "\n",
    "    #Exit the application when any key is pressed\n",
    "    if cv2.waitKey(1) != -1:\n",
    "        break"
   ]
  },
  {
   "cell_type": "markdown",
   "metadata": {},
   "source": [
    "# Releasing Resources"
   ]
  },
  {
   "cell_type": "code",
   "execution_count": 5,
   "metadata": {},
   "outputs": [],
   "source": [
    "#Release the webcam and close the windows\n",
    "webcam.release()\n",
    "cv2.destroyAllWindows()"
   ]
  }
 ],
 "metadata": {
  "kernelspec": {
   "display_name": "Python 3",
   "language": "python",
   "name": "python3"
  },
  "language_info": {
   "codemirror_mode": {
    "name": "ipython",
    "version": 3
   },
   "file_extension": ".py",
   "mimetype": "text/x-python",
   "name": "python",
   "nbconvert_exporter": "python",
   "pygments_lexer": "ipython3",
   "version": "3.12.5"
  }
 },
 "nbformat": 4,
 "nbformat_minor": 2
}
